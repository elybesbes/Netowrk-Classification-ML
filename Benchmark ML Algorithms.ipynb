{
 "cells": [
  {
   "cell_type": "code",
   "execution_count": 1,
   "id": "d82e31e6",
   "metadata": {},
   "outputs": [],
   "source": [
    "import pandas as pd\n",
    "from sklearn.svm import SVC\n",
    "from sklearn.neighbors import KNeighborsClassifier\n",
    "from sklearn.tree import DecisionTreeClassifier\n",
    "from sklearn.ensemble import RandomForestClassifier\n",
    "from sklearn.ensemble import GradientBoostingClassifier\n",
    "from sklearn.model_selection import train_test_split\n",
    "from sklearn.model_selection import GridSearchCV\n",
    "from sklearn.metrics import accuracy_score\n",
    "from sklearn.metrics import precision_score\n",
    "from sklearn.metrics import f1_score\n",
    "import matplotlib.pyplot as plt\n",
    "import seaborn as sns"
   ]
  },
  {
   "cell_type": "code",
   "execution_count": 2,
   "id": "39e3e127",
   "metadata": {
    "scrolled": true
   },
   "outputs": [
    {
     "data": {
      "text/html": [
       "<div>\n",
       "<style scoped>\n",
       "    .dataframe tbody tr th:only-of-type {\n",
       "        vertical-align: middle;\n",
       "    }\n",
       "\n",
       "    .dataframe tbody tr th {\n",
       "        vertical-align: top;\n",
       "    }\n",
       "\n",
       "    .dataframe thead th {\n",
       "        text-align: right;\n",
       "    }\n",
       "</style>\n",
       "<table border=\"1\" class=\"dataframe\">\n",
       "  <thead>\n",
       "    <tr style=\"text-align: right;\">\n",
       "      <th></th>\n",
       "      <th>Port src</th>\n",
       "      <th>Port dst</th>\n",
       "      <th>Bytes</th>\n",
       "      <th>Duration(ms)</th>\n",
       "      <th>Mean PIAT(ms)</th>\n",
       "      <th>IP_app_converted</th>\n",
       "      <th>Category</th>\n",
       "    </tr>\n",
       "  </thead>\n",
       "  <tbody>\n",
       "    <tr>\n",
       "      <th>0</th>\n",
       "      <td>5353.0</td>\n",
       "      <td>5353.0</td>\n",
       "      <td>169.0</td>\n",
       "      <td>67604.0</td>\n",
       "      <td>67604.000000</td>\n",
       "      <td>3232235888</td>\n",
       "      <td>Network</td>\n",
       "    </tr>\n",
       "    <tr>\n",
       "      <th>1</th>\n",
       "      <td>56478.0</td>\n",
       "      <td>443.0</td>\n",
       "      <td>615.0</td>\n",
       "      <td>88.0</td>\n",
       "      <td>12.571429</td>\n",
       "      <td>3232235888</td>\n",
       "      <td>Web</td>\n",
       "    </tr>\n",
       "    <tr>\n",
       "      <th>2</th>\n",
       "      <td>45756.0</td>\n",
       "      <td>443.0</td>\n",
       "      <td>1278.0</td>\n",
       "      <td>64149.0</td>\n",
       "      <td>3563.833333</td>\n",
       "      <td>3232235888</td>\n",
       "      <td>Cloud</td>\n",
       "    </tr>\n",
       "    <tr>\n",
       "      <th>3</th>\n",
       "      <td>58665.0</td>\n",
       "      <td>3702.0</td>\n",
       "      <td>4886.0</td>\n",
       "      <td>6138.0</td>\n",
       "      <td>1023.000000</td>\n",
       "      <td>3232235881</td>\n",
       "      <td>Network</td>\n",
       "    </tr>\n",
       "    <tr>\n",
       "      <th>4</th>\n",
       "      <td>37807.0</td>\n",
       "      <td>443.0</td>\n",
       "      <td>25936.0</td>\n",
       "      <td>195955.0</td>\n",
       "      <td>1749.598214</td>\n",
       "      <td>3232235888</td>\n",
       "      <td>Web</td>\n",
       "    </tr>\n",
       "    <tr>\n",
       "      <th>...</th>\n",
       "      <td>...</td>\n",
       "      <td>...</td>\n",
       "      <td>...</td>\n",
       "      <td>...</td>\n",
       "      <td>...</td>\n",
       "      <td>...</td>\n",
       "      <td>...</td>\n",
       "    </tr>\n",
       "    <tr>\n",
       "      <th>207</th>\n",
       "      <td>42081.979735</td>\n",
       "      <td>443.0</td>\n",
       "      <td>11197.05498</td>\n",
       "      <td>170332.054218</td>\n",
       "      <td>4761.050806</td>\n",
       "      <td>3232235888</td>\n",
       "      <td>Web</td>\n",
       "    </tr>\n",
       "    <tr>\n",
       "      <th>208</th>\n",
       "      <td>39527.812476</td>\n",
       "      <td>443.0</td>\n",
       "      <td>14793.99809</td>\n",
       "      <td>854.537431</td>\n",
       "      <td>36.070522</td>\n",
       "      <td>3232235888</td>\n",
       "      <td>Web</td>\n",
       "    </tr>\n",
       "    <tr>\n",
       "      <th>209</th>\n",
       "      <td>56199.65851</td>\n",
       "      <td>443.0</td>\n",
       "      <td>752.374909</td>\n",
       "      <td>94.60658</td>\n",
       "      <td>12.984652</td>\n",
       "      <td>3232235888</td>\n",
       "      <td>Web</td>\n",
       "    </tr>\n",
       "    <tr>\n",
       "      <th>210</th>\n",
       "      <td>36788.982573</td>\n",
       "      <td>443.0</td>\n",
       "      <td>13032.556645</td>\n",
       "      <td>1866.736984</td>\n",
       "      <td>77.905930</td>\n",
       "      <td>3232235888</td>\n",
       "      <td>Web</td>\n",
       "    </tr>\n",
       "    <tr>\n",
       "      <th>211</th>\n",
       "      <td>43720.034601</td>\n",
       "      <td>255.681519</td>\n",
       "      <td>635.700149</td>\n",
       "      <td>33531.593597</td>\n",
       "      <td>4544.257203</td>\n",
       "      <td>3232235888</td>\n",
       "      <td>Web</td>\n",
       "    </tr>\n",
       "  </tbody>\n",
       "</table>\n",
       "<p>212 rows × 7 columns</p>\n",
       "</div>"
      ],
      "text/plain": [
       "         Port src    Port dst         Bytes   Duration(ms)  Mean PIAT(ms)  \\\n",
       "0          5353.0      5353.0         169.0        67604.0   67604.000000   \n",
       "1         56478.0       443.0         615.0           88.0      12.571429   \n",
       "2         45756.0       443.0        1278.0        64149.0    3563.833333   \n",
       "3         58665.0      3702.0        4886.0         6138.0    1023.000000   \n",
       "4         37807.0       443.0       25936.0       195955.0    1749.598214   \n",
       "..            ...         ...           ...            ...            ...   \n",
       "207  42081.979735       443.0   11197.05498  170332.054218    4761.050806   \n",
       "208  39527.812476       443.0   14793.99809     854.537431      36.070522   \n",
       "209   56199.65851       443.0    752.374909       94.60658      12.984652   \n",
       "210  36788.982573       443.0  13032.556645    1866.736984      77.905930   \n",
       "211  43720.034601  255.681519    635.700149   33531.593597    4544.257203   \n",
       "\n",
       "     IP_app_converted Category  \n",
       "0          3232235888  Network  \n",
       "1          3232235888      Web  \n",
       "2          3232235888    Cloud  \n",
       "3          3232235881  Network  \n",
       "4          3232235888      Web  \n",
       "..                ...      ...  \n",
       "207        3232235888      Web  \n",
       "208        3232235888      Web  \n",
       "209        3232235888      Web  \n",
       "210        3232235888      Web  \n",
       "211        3232235888      Web  \n",
       "\n",
       "[212 rows x 7 columns]"
      ]
     },
     "execution_count": 2,
     "metadata": {},
     "output_type": "execute_result"
    }
   ],
   "source": [
    "# Loading the dataframe\n",
    "df_name = 'Network flow dataframe'\n",
    "df = pd.read_pickle(df_name)\n",
    "df"
   ]
  },
  {
   "cell_type": "code",
   "execution_count": 3,
   "id": "c4848c21",
   "metadata": {},
   "outputs": [],
   "source": [
    "X = df.drop(columns=['Category'])\n",
    "y = df['Category']\n",
    "X_train, X_test, y_train, y_test = train_test_split(X, y, test_size=0.2)"
   ]
  },
  {
   "cell_type": "markdown",
   "id": "218b5071",
   "metadata": {},
   "source": [
    "### k-NN"
   ]
  },
  {
   "cell_type": "code",
   "execution_count": 4,
   "id": "d9155f1a",
   "metadata": {},
   "outputs": [
    {
     "name": "stdout",
     "output_type": "stream",
     "text": [
      "Le facteur k = 13\n",
      "fitting_time: 4.717026233673096\n",
      "KNeighborsClassifier(leaf_size=20, n_neighbors=1, p=1)\n",
      "100.00 93.02 93.20 94.52\n"
     ]
    }
   ],
   "source": [
    "import math\n",
    "from math import sqrt\n",
    "number = math.sqrt(len (X_train))\n",
    "nb = int(format(number, \".0f\"))\n",
    "if nb % 2 == 0:\n",
    "    k = nb - 1 \n",
    "else:\n",
    "    k = nb\n",
    "print ('Le facteur k =',k)\n",
    "\n",
    "knn = KNeighborsClassifier(3)\n",
    "parameters_knn = {\n",
    "    'n_neighbors': (1,k, 1),\n",
    "    'leaf_size': (20,40,1),\n",
    "    'p': (1,2),\n",
    "    'weights': ('uniform', 'distance'),\n",
    "    'metric': ('minkowski', 'chebyshev'),}\n",
    "grid_search_knn = GridSearchCV(estimator=knn,\n",
    "    param_grid=parameters_knn,\n",
    "    scoring = 'accuracy',\n",
    "    n_jobs = -1,\n",
    "    cv = 5)\n",
    "import time\n",
    "start = time.time()\n",
    "grid_search_knn.fit(X_train, y_train)\n",
    "stop = time.time()\n",
    "fitting_time_knn = stop-start\n",
    "print('fitting_time:', fitting_time_knn)\n",
    "best_knn = grid_search_knn.best_estimator_\n",
    "print(best_knn)\n",
    "y_train_pred = best_knn.predict(X_train)\n",
    "y_test_pred = best_knn.predict(X_test)\n",
    "\n",
    "knn_train_accuracy = format(accuracy_score(y_train, y_train_pred) * 100, \".2f\")\n",
    "knn_test_accuracy =format(accuracy_score(y_test, y_test_pred) *100, \".2f\")\n",
    "knn_f1_score = format(f1_score(y_test, y_test_pred, average='weighted') *100, \".2f\")\n",
    "knn_precision_score = format(precision_score(y_test, y_test_pred, average='weighted')*100, \".2f\")\n",
    "print (knn_train_accuracy,\n",
    "      knn_test_accuracy,\n",
    "      knn_f1_score,\n",
    "      knn_precision_score)"
   ]
  },
  {
   "cell_type": "markdown",
   "id": "784124c5",
   "metadata": {},
   "source": [
    "### SVM"
   ]
  },
  {
   "cell_type": "code",
   "execution_count": null,
   "id": "bbd4b0b9",
   "metadata": {},
   "outputs": [],
   "source": [
    "svc = SVC()\n",
    "parameters_svc = {'C': [0.1, 1, 10, 100, 1000],\n",
    "              'gamma': [1, 0.1, 0.01, 0.001, 0.0001],\n",
    "              'kernel': ['rbf'],\n",
    "                 'decision_function_shape': ['ovo','ovr']}\n",
    "grid_search_svc = GridSearchCV(estimator= svc, param_grid= parameters_svc, \n",
    "                               refit = True, verbose = 3)\n",
    "start = time.time()\n",
    "grid_search_svc.fit(X_train, y_train)\n",
    "stop = time.time()\n",
    "fitting_time_svc = stop-start\n",
    "print('fitting_time:', fitting_time_svc)\n",
    "best_svc = grid_search_svc.best_estimator_\n",
    "print(best_svc)\n",
    "y_train_pred = best_svc.predict(X_train)\n",
    "y_test_pred = best_svc.predict(X_test)\n",
    "\n",
    "svc_train_accuracy = format(accuracy_score(y_train, y_train_pred)*100, \".2f\")\n",
    "svc_test_accuracy = format(accuracy_score(y_test, y_test_pred)*100, \".2f\")\n",
    "svc_f1_score = format(f1_score(y_test, y_test_pred, average='weighted')*100, \".2f\")\n",
    "svc_precision_score = format(precision_score(y_test, y_test_pred, average='weighted')*100, \".2f\")\n",
    "print (svc_train_accuracy,\n",
    "      svc_test_accuracy,\n",
    "      svc_f1_score,\n",
    "      svc_precision_score)"
   ]
  },
  {
   "cell_type": "code",
   "execution_count": 5,
   "id": "29713e39",
   "metadata": {},
   "outputs": [
    {
     "name": "stdout",
     "output_type": "stream",
     "text": [
      "31.95 23.26 13.95 26.98\n"
     ]
    },
    {
     "name": "stderr",
     "output_type": "stream",
     "text": [
      "C:\\Users\\33634\\anaconda3\\lib\\site-packages\\sklearn\\metrics\\_classification.py:1245: UndefinedMetricWarning: Precision is ill-defined and being set to 0.0 in labels with no predicted samples. Use `zero_division` parameter to control this behavior.\n",
      "  _warn_prf(average, modifier, msg_start, len(result))\n"
     ]
    }
   ],
   "source": [
    "svc = SVC()\n",
    "svc.fit(X_train, y_train)\n",
    "y_train_pred = svc.predict(X_train)\n",
    "y_test_pred = svc.predict(X_test)\n",
    "svc_train_accuracy = format(accuracy_score(y_train, y_train_pred)*100, \".2f\")\n",
    "svc_test_accuracy = format(accuracy_score(y_test, y_test_pred)*100, \".2f\")\n",
    "svc_f1_score = format(f1_score(y_test, y_test_pred, average='weighted')*100, \".2f\")\n",
    "svc_precision_score = format(precision_score(y_test, y_test_pred, average='weighted')*100, \".2f\")\n",
    "print (svc_train_accuracy,\n",
    "      svc_test_accuracy,\n",
    "      svc_f1_score,\n",
    "      svc_precision_score)"
   ]
  },
  {
   "cell_type": "markdown",
   "id": "ba301e95",
   "metadata": {},
   "source": [
    "### Decision Tree"
   ]
  },
  {
   "cell_type": "code",
   "execution_count": 6,
   "id": "c762dd45",
   "metadata": {},
   "outputs": [
    {
     "name": "stdout",
     "output_type": "stream",
     "text": [
      "Fitting 5 folds for each of 90 candidates, totalling 450 fits\n",
      "fitting_time: 2.420253038406372\n",
      "DecisionTreeClassifier(ccp_alpha=0.01, max_depth=9, max_features='auto',\n",
      "                       random_state=1024)\n",
      "97.04 90.70 90.85 92.03\n"
     ]
    }
   ],
   "source": [
    "dt = DecisionTreeClassifier(random_state=1024, max_depth=5)\n",
    "parameters_dt = {'max_features': ['auto', 'sqrt', 'log2'],\n",
    "              'ccp_alpha': [0.1, .01, .001], \n",
    "              'max_depth' : [5, 6, 7, 8, 9],\n",
    "              'criterion' :['gini', 'entropy']}\n",
    "grid_search_dt = GridSearchCV(estimator=dt, param_grid= parameters_dt, \n",
    "                              cv=5, verbose=True)\n",
    "start = time.time()\n",
    "grid_search_dt.fit(X_train, y_train)\n",
    "stop = time.time()\n",
    "fitting_time_dt = stop-start\n",
    "print('fitting_time:', fitting_time_dt)\n",
    "best_dt = grid_search_dt.best_estimator_\n",
    "print(best_dt)\n",
    "y_train_pred = best_dt.predict(X_train)\n",
    "y_test_pred = best_dt.predict(X_test)\n",
    "\n",
    "dt_train_accuracy = format(accuracy_score(y_train, y_train_pred)*100, \".2f\")\n",
    "dt_test_accuracy = format(accuracy_score(y_test, y_test_pred)*100, \".2f\")\n",
    "dt_f1_score = format(f1_score(y_test, y_test_pred, average='weighted')*100, \".2f\")\n",
    "dt_precision_score = format(precision_score(y_test, y_test_pred, average='weighted')*100, \".2f\")\n",
    "print (dt_train_accuracy,\n",
    "      dt_test_accuracy,\n",
    "      dt_f1_score, dt_precision_score)"
   ]
  },
  {
   "cell_type": "markdown",
   "id": "5c92e6aa",
   "metadata": {},
   "source": [
    "### Random Forest"
   ]
  },
  {
   "cell_type": "code",
   "execution_count": 7,
   "id": "d316bba6",
   "metadata": {
    "scrolled": true
   },
   "outputs": [
    {
     "name": "stdout",
     "output_type": "stream",
     "text": [
      "Fitting 3 folds for each of 288 candidates, totalling 864 fits\n",
      "RandomForestClassifier(max_depth=90, max_features=2, min_samples_leaf=3,\n",
      "                       min_samples_split=8)\n",
      "95.86 90.70 90.50 91.48\n"
     ]
    }
   ],
   "source": [
    "rfc = RandomForestClassifier()\n",
    "parameters_rfc = { \n",
    "    'bootstrap': [True],\n",
    "    'max_depth': [80, 90, 100, 110],\n",
    "    'max_features': [2, 3],\n",
    "    'min_samples_leaf': [3, 4, 5],\n",
    "    'min_samples_split': [8, 10, 12],\n",
    "    'n_estimators': [100, 200, 300, 1000]\n",
    "}\n",
    "grid_search_rfc = GridSearchCV(estimator = rfc, param_grid = parameters_rfc, \n",
    "                           cv = 3, n_jobs = -1, verbose = 2) #initialiser la recherche\n",
    "start = time.time()\n",
    "grid_search_rfc.fit(X_train, y_train)\n",
    "end = time.time()\n",
    "fitting_time_rfc = start-stop\n",
    "best_rfc = grid_search_rfc.best_estimator_\n",
    "print(best_rfc)\n",
    "\n",
    "y_train_pred = best_rfc.predict(X_train)\n",
    "y_test_pred = best_rfc.predict(X_test)\n",
    "\n",
    "rfc_train_accuracy = format(accuracy_score(y_train, y_train_pred)*100, \".2f\")\n",
    "rfc_test_accuracy = format(accuracy_score(y_test, y_test_pred)*100, \".2f\")\n",
    "rfc_f1_score = format(f1_score(y_test, y_test_pred, average='weighted')*100, \".2f\")\n",
    "rfc_precision_score = format(precision_score(y_test, y_test_pred, average='weighted')*100, \".2f\")\n",
    "print (rfc_train_accuracy,\n",
    "      rfc_test_accuracy,\n",
    "      rfc_f1_score, rfc_precision_score)"
   ]
  },
  {
   "cell_type": "raw",
   "id": "7df9f59a",
   "metadata": {},
   "source": [
    "benchmark_df_time = pd.DataFrame(columns =['Train Time (ms)'], index =['k-NN', 'SVC', 'DT', 'RF'])\n",
    "benchmark_df_time['Train Time (ms)']= [fitting_time_knn,fitting_time_svc,fitting_time_dt,fitting_time_rfc]\n",
    "benchmark_df_time\n",
    "benchmark_df_time['Train Time (ms)'].plot(x='period', kind='bar')"
   ]
  },
  {
   "cell_type": "code",
   "execution_count": 14,
   "id": "ff94851f",
   "metadata": {},
   "outputs": [
    {
     "data": {
      "text/html": [
       "<div>\n",
       "<style scoped>\n",
       "    .dataframe tbody tr th:only-of-type {\n",
       "        vertical-align: middle;\n",
       "    }\n",
       "\n",
       "    .dataframe tbody tr th {\n",
       "        vertical-align: top;\n",
       "    }\n",
       "\n",
       "    .dataframe thead th {\n",
       "        text-align: right;\n",
       "    }\n",
       "</style>\n",
       "<table border=\"1\" class=\"dataframe\">\n",
       "  <thead>\n",
       "    <tr style=\"text-align: right;\">\n",
       "      <th></th>\n",
       "      <th>Train Accuracy</th>\n",
       "      <th>Test Accuracy</th>\n",
       "      <th>Precision</th>\n",
       "    </tr>\n",
       "  </thead>\n",
       "  <tbody>\n",
       "    <tr>\n",
       "      <th>k-NN</th>\n",
       "      <td>100.00</td>\n",
       "      <td>93.02</td>\n",
       "      <td>94.52</td>\n",
       "    </tr>\n",
       "    <tr>\n",
       "      <th>SVC</th>\n",
       "      <td>31.95</td>\n",
       "      <td>23.26</td>\n",
       "      <td>26.98</td>\n",
       "    </tr>\n",
       "    <tr>\n",
       "      <th>DT</th>\n",
       "      <td>97.04</td>\n",
       "      <td>90.70</td>\n",
       "      <td>92.03</td>\n",
       "    </tr>\n",
       "    <tr>\n",
       "      <th>RF</th>\n",
       "      <td>95.86</td>\n",
       "      <td>90.70</td>\n",
       "      <td>91.48</td>\n",
       "    </tr>\n",
       "  </tbody>\n",
       "</table>\n",
       "</div>"
      ],
      "text/plain": [
       "      Train Accuracy  Test Accuracy  Precision\n",
       "k-NN          100.00          93.02      94.52\n",
       "SVC            31.95          23.26      26.98\n",
       "DT             97.04          90.70      92.03\n",
       "RF             95.86          90.70      91.48"
      ]
     },
     "execution_count": 14,
     "metadata": {},
     "output_type": "execute_result"
    },
    {
     "data": {
      "image/png": "[encoded data removed]",
      "text/plain": [
       "<Figure size 720x576 with 1 Axes>"
      ]
     },
     "metadata": {},
     "output_type": "display_data"
    }
   ],
   "source": [
    "df = pd.DataFrame({'Train Accuracy': [knn_train_accuracy,svc_train_accuracy ,dt_train_accuracy , rfc_train_accuracy],\n",
    "                   'Test Accuracy': [knn_test_accuracy, svc_test_accuracy, dt_test_accuracy,rfc_test_accuracy],\n",
    "                   'Precision': [knn_precision_score,svc_precision_score,dt_precision_score,rfc_precision_score]}, index =['k-NN', 'SVC', 'DT', 'RF'])\n",
    "\n",
    "df['Train Accuracy']=df['Train Accuracy'].astype(float)\n",
    "df['Test Accuracy']=df['Test Accuracy'].astype(float)\n",
    "df['Precision']=df['Precision'].astype(float)\n",
    "#plot columns on bar chart\n",
    "sns.set_style(\"dark\")\n",
    "df[['Train Accuracy', 'Test Accuracy','Precision' ]].plot(kind='bar', xlabel = 'ML Algorithm', figsize=(10,8), \n",
    "                                                                      ylabel = 'Performance level (%)',\n",
    "                                                                      title = 'Algorithm performance benchmark').legend(bbox_to_anchor=(1.0, 1.0),\n",
    "                                                                    title=\"KPI\",\n",
    "                                                                    fontsize = 20)\n",
    "\n",
    "plt.xticks(rotation=45, horizontalalignment=\"center\", fontsize = 20)\n",
    "df "
   ]
  },
  {
   "cell_type": "code",
   "execution_count": null,
   "id": "427cb7c5",
   "metadata": {},
   "outputs": [],
   "source": []
  }
 ],
 "metadata": {
  "kernelspec": {
   "display_name": "Python 3",
   "language": "python",
   "name": "python3"
  },
  "language_info": {
   "codemirror_mode": {
    "name": "ipython",
    "version": 3
   },
   "file_extension": ".py",
   "mimetype": "text/x-python",
   "name": "python",
   "nbconvert_exporter": "python",
   "pygments_lexer": "ipython3",
   "version": "3.8.8"
  }
 },
 "nbformat": 4,
 "nbformat_minor": 5
}

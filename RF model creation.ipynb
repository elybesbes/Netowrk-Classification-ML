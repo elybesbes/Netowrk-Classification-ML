{
 "cells": [
  {
   "cell_type": "code",
   "execution_count": 2,
   "id": "9a467e2e",
   "metadata": {},
   "outputs": [],
   "source": [
    "import pandas as pd\n",
    "from sklearn.ensemble import RandomForestClassifier\n",
    "from sklearn.model_selection import GridSearchCV\n",
    "from sklearn.ensemble import GradientBoostingClassifier\n",
    "from sklearn.model_selection import train_test_split\n",
    "from sklearn.metrics import accuracy_score\n",
    "from sklearn.metrics import precision_score\n",
    "from sklearn.metrics import f1_score\n",
    "import joblib\n",
    "import pickle"
   ]
  },
  {
   "cell_type": "code",
   "execution_count": 3,
   "id": "4f785327",
   "metadata": {},
   "outputs": [
    {
     "data": {
      "text/html": [
       "<div>\n",
       "<style scoped>\n",
       "    .dataframe tbody tr th:only-of-type {\n",
       "        vertical-align: middle;\n",
       "    }\n",
       "\n",
       "    .dataframe tbody tr th {\n",
       "        vertical-align: top;\n",
       "    }\n",
       "\n",
       "    .dataframe thead th {\n",
       "        text-align: right;\n",
       "    }\n",
       "</style>\n",
       "<table border=\"1\" class=\"dataframe\">\n",
       "  <thead>\n",
       "    <tr style=\"text-align: right;\">\n",
       "      <th></th>\n",
       "      <th>Port src</th>\n",
       "      <th>Port dst</th>\n",
       "      <th>Bytes</th>\n",
       "      <th>Duration(ms)</th>\n",
       "      <th>Max PS</th>\n",
       "      <th>IP_app_converted</th>\n",
       "      <th>Category</th>\n",
       "    </tr>\n",
       "  </thead>\n",
       "  <tbody>\n",
       "    <tr>\n",
       "      <th>0</th>\n",
       "      <td>38735.0</td>\n",
       "      <td>41292.0</td>\n",
       "      <td>817.0</td>\n",
       "      <td>1312.0</td>\n",
       "      <td>146.0</td>\n",
       "      <td>3303860334</td>\n",
       "      <td>Network</td>\n",
       "    </tr>\n",
       "    <tr>\n",
       "      <th>1</th>\n",
       "      <td>46198.0</td>\n",
       "      <td>443.0</td>\n",
       "      <td>1505.0</td>\n",
       "      <td>96.0</td>\n",
       "      <td>80.0</td>\n",
       "      <td>2398795850</td>\n",
       "      <td>Web</td>\n",
       "    </tr>\n",
       "    <tr>\n",
       "      <th>2</th>\n",
       "      <td>10505.0</td>\n",
       "      <td>443.0</td>\n",
       "      <td>1314.0</td>\n",
       "      <td>1261.0</td>\n",
       "      <td>78.0</td>\n",
       "      <td>3303353100</td>\n",
       "      <td>Web</td>\n",
       "    </tr>\n",
       "    <tr>\n",
       "      <th>3</th>\n",
       "      <td>49385.0</td>\n",
       "      <td>1813.0</td>\n",
       "      <td>2449.0</td>\n",
       "      <td>1292.0</td>\n",
       "      <td>409.0</td>\n",
       "      <td>168564441</td>\n",
       "      <td>Network</td>\n",
       "    </tr>\n",
       "    <tr>\n",
       "      <th>4</th>\n",
       "      <td>34851.0</td>\n",
       "      <td>443.0</td>\n",
       "      <td>105792.0</td>\n",
       "      <td>1321.0</td>\n",
       "      <td>1392.0</td>\n",
       "      <td>1682156403</td>\n",
       "      <td>Cloud</td>\n",
       "    </tr>\n",
       "    <tr>\n",
       "      <th>...</th>\n",
       "      <td>...</td>\n",
       "      <td>...</td>\n",
       "      <td>...</td>\n",
       "      <td>...</td>\n",
       "      <td>...</td>\n",
       "      <td>...</td>\n",
       "      <td>...</td>\n",
       "    </tr>\n",
       "    <tr>\n",
       "      <th>111685</th>\n",
       "      <td>38736.133724</td>\n",
       "      <td>3478.0</td>\n",
       "      <td>1141.615583</td>\n",
       "      <td>1081.140636</td>\n",
       "      <td>172.674672</td>\n",
       "      <td>1682212122</td>\n",
       "      <td>VoIP</td>\n",
       "    </tr>\n",
       "    <tr>\n",
       "      <th>111686</th>\n",
       "      <td>37993.304231</td>\n",
       "      <td>3478.0</td>\n",
       "      <td>16364.844054</td>\n",
       "      <td>1200.353032</td>\n",
       "      <td>1025.658017</td>\n",
       "      <td>1682708511</td>\n",
       "      <td>VoIP</td>\n",
       "    </tr>\n",
       "    <tr>\n",
       "      <th>111687</th>\n",
       "      <td>57361.334219</td>\n",
       "      <td>3478.0</td>\n",
       "      <td>1330.849653</td>\n",
       "      <td>1166.172697</td>\n",
       "      <td>259.415041</td>\n",
       "      <td>1682735925</td>\n",
       "      <td>VoIP</td>\n",
       "    </tr>\n",
       "    <tr>\n",
       "      <th>111688</th>\n",
       "      <td>49968.43213</td>\n",
       "      <td>3478.0</td>\n",
       "      <td>34398.806709</td>\n",
       "      <td>1295.878886</td>\n",
       "      <td>1062.771468</td>\n",
       "      <td>1682012299</td>\n",
       "      <td>VoIP</td>\n",
       "    </tr>\n",
       "    <tr>\n",
       "      <th>111689</th>\n",
       "      <td>45553.557947</td>\n",
       "      <td>3478.0</td>\n",
       "      <td>2487.310372</td>\n",
       "      <td>1093.008191</td>\n",
       "      <td>240.119539</td>\n",
       "      <td>1682025485</td>\n",
       "      <td>VoIP</td>\n",
       "    </tr>\n",
       "  </tbody>\n",
       "</table>\n",
       "<p>111690 rows × 7 columns</p>\n",
       "</div>"
      ],
      "text/plain": [
       "            Port src Port dst         Bytes Duration(ms)       Max PS  \\\n",
       "0            38735.0  41292.0         817.0       1312.0        146.0   \n",
       "1            46198.0    443.0        1505.0         96.0         80.0   \n",
       "2            10505.0    443.0        1314.0       1261.0         78.0   \n",
       "3            49385.0   1813.0        2449.0       1292.0        409.0   \n",
       "4            34851.0    443.0      105792.0       1321.0       1392.0   \n",
       "...              ...      ...           ...          ...          ...   \n",
       "111685  38736.133724   3478.0   1141.615583  1081.140636   172.674672   \n",
       "111686  37993.304231   3478.0  16364.844054  1200.353032  1025.658017   \n",
       "111687  57361.334219   3478.0   1330.849653  1166.172697   259.415041   \n",
       "111688   49968.43213   3478.0  34398.806709  1295.878886  1062.771468   \n",
       "111689  45553.557947   3478.0   2487.310372  1093.008191   240.119539   \n",
       "\n",
       "        IP_app_converted Category  \n",
       "0             3303860334  Network  \n",
       "1             2398795850      Web  \n",
       "2             3303353100      Web  \n",
       "3              168564441  Network  \n",
       "4             1682156403    Cloud  \n",
       "...                  ...      ...  \n",
       "111685        1682212122     VoIP  \n",
       "111686        1682708511     VoIP  \n",
       "111687        1682735925     VoIP  \n",
       "111688        1682012299     VoIP  \n",
       "111689        1682025485     VoIP  \n",
       "\n",
       "[111690 rows x 7 columns]"
      ]
     },
     "execution_count": 3,
     "metadata": {},
     "output_type": "execute_result"
    }
   ],
   "source": [
    "# Importing the dataset and splitting into training and testing set\n",
    "df_name = 'Network flow dataframe'\n",
    "df = pd.read_pickle(df_name)\n",
    "df"
   ]
  },
  {
   "cell_type": "code",
   "execution_count": 4,
   "id": "e3efc626",
   "metadata": {},
   "outputs": [
    {
     "data": {
      "text/plain": [
       "Streaming        11169\n",
       "Email            11169\n",
       "Web              11169\n",
       "VoIP             11169\n",
       "Network          11169\n",
       "Game             11169\n",
       "Cloud            11169\n",
       "SocialNetwork    11169\n",
       "Chat             11169\n",
       "Others           11169\n",
       "Name: Category, dtype: int64"
      ]
     },
     "execution_count": 4,
     "metadata": {},
     "output_type": "execute_result"
    }
   ],
   "source": [
    "X = df.drop(columns=['Category'])\n",
    "y = df['Category']\n",
    "X_train, X_test, y_train, y_test = train_test_split(X, y, test_size=0.2)"
   ]
  },
  {
   "cell_type": "code",
   "execution_count": 3,
   "id": "7d3294e7",
   "metadata": {},
   "outputs": [],
   "source": [
    "# Defining the model\n",
    "rfc = RandomForestClassifier()"
   ]
  },
  {
   "cell_type": "code",
   "execution_count": 4,
   "id": "df501607",
   "metadata": {},
   "outputs": [
    {
     "name": "stdout",
     "output_type": "stream",
     "text": [
      "Fitting 3 folds for each of 288 candidates, totalling 864 fits\n",
      "RandomForestClassifier(max_depth=110, max_features=2, min_samples_leaf=3,\n",
      "                       min_samples_split=12)\n"
     ]
    }
   ],
   "source": [
    "# Hyperparameter tuning with Grid Search\n",
    "parameters_rfc = {'bootstrap': [True], # Hyperparameters to test and combine\n",
    "    'max_depth': [80, 90, 100, 110],\n",
    "    'max_features': [2, 3],\n",
    "    'min_samples_leaf': [3, 4, 5],\n",
    "    'min_samples_split': [8, 10, 12],\n",
    "    'n_estimators': [100, 200, 300, 1000]}\n",
    "grid_search_rfc = GridSearchCV(estimator = rfc, param_grid = parameters_rfc, \n",
    "                           cv = 3, n_jobs = -1, verbose = 2) # Initiating the search\n",
    "\n",
    "grid_search_rfc.fit(X_train, y_train) # Fitting the grid function\n",
    "best_rfc = grid_search_rfc.best_estimator_ # Best hyperparams for the model\n",
    "print(best_rfc)"
   ]
  },
  {
   "cell_type": "code",
   "execution_count": 5,
   "id": "535109af",
   "metadata": {
    "scrolled": true
   },
   "outputs": [
    {
     "name": "stdout",
     "output_type": "stream",
     "text": [
      "Train Accuracy 97.23 %\n",
      " Test Accuracy 96.61 %\n",
      " F1 Score 96.61 %\n",
      " Precision 96.99 %\n",
      "\n"
     ]
    }
   ],
   "source": [
    "# Model Verification and validation\n",
    "y_train_pred = best_rfc.predict(X_train)\n",
    "y_test_pred = best_rfc.predict(X_test)\n",
    "\n",
    "rfc_train_accuracy = format(accuracy_score(y_train, y_train_pred)*100, \".2f\")\n",
    "rfc_test_accuracy = format(accuracy_score(y_test, y_test_pred)*100, \".2f\")\n",
    "rfc_f1_score = format(f1_score(y_test, y_test_pred, average='weighted')*100, \".2f\")\n",
    "rfc_precision_score = format(precision_score(y_test, y_test_pred, average='weighted')*100, \".2f\")\n",
    "print (\"Train Accuracy\", rfc_train_accuracy, \"%\\n\",\n",
    "       \"Test Accuracy\", rfc_test_accuracy, \"%\\n\",\n",
    "       \"F1 Score\", rfc_f1_score, \"%\\n\", \n",
    "       \"Precision\", rfc_precision_score, \"%\\n\")"
   ]
  },
  {
   "cell_type": "code",
   "execution_count": 6,
   "id": "5e11b020",
   "metadata": {},
   "outputs": [
    {
     "data": {
      "text/plain": [
       "['RF_Model.pkl']"
      ]
     },
     "execution_count": 6,
     "metadata": {},
     "output_type": "execute_result"
    }
   ],
   "source": [
    "filename = \"RF_Model.pkl\" #Saving the model after fitting\n",
    "joblib.dump(best_rfc, filename)"
   ]
  },
  {
   "cell_type": "code",
   "execution_count": null,
   "id": "ab9238df",
   "metadata": {},
   "outputs": [],
   "source": []
  }
 ],
 "metadata": {
  "kernelspec": {
   "display_name": "Python 3",
   "language": "python",
   "name": "python3"
  },
  "language_info": {
   "codemirror_mode": {
    "name": "ipython",
    "version": 3
   },
   "file_extension": ".py",
   "mimetype": "text/x-python",
   "name": "python",
   "nbconvert_exporter": "python",
   "pygments_lexer": "ipython3",
   "version": "3.8.8"
  }
 },
 "nbformat": 4,
 "nbformat_minor": 5
}

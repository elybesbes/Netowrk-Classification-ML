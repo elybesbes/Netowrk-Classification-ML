{
 "cells": [
  {
   "cell_type": "code",
   "execution_count": 1,
   "id": "1c8c637c",
   "metadata": {},
   "outputs": [],
   "source": [
    "from nfstream import NFStreamer, NFPlugin\n",
    "import joblib\n",
    "import pickle"
   ]
  },
  {
   "cell_type": "code",
   "execution_count": 2,
   "id": "f720e4c3",
   "metadata": {},
   "outputs": [
    {
     "data": {
      "text/plain": [
       "RandomForestClassifier(max_depth=110, max_features=2, min_samples_leaf=3,\n",
       "                       min_samples_split=12)"
      ]
     },
     "execution_count": 2,
     "metadata": {},
     "output_type": "execute_result"
    }
   ],
   "source": [
    "filename = \"RF_Model.pkl\"\n",
    "rfc_trained = joblib.load(filename)\n",
    "rfc_trained"
   ]
  },
  {
   "cell_type": "code",
   "execution_count": 3,
   "id": "4251aa3e",
   "metadata": {},
   "outputs": [
    {
     "name": "stdout",
     "output_type": "stream",
     "text": [
      "Function ModelPredict accepted\n"
     ]
    }
   ],
   "source": [
    "class ContiniousPrediction(NFPlugin):\n",
    "    def on_init(self, packet, flow):\n",
    "        flow.udps.model_prediction = 0\n",
    "    def on_expire(self, flow):\n",
    "        to_predict = np.array([flow.protocol, flow.bidirectional_bytes,\n",
    "                               flow.bidirectional_packets, flow.bidirectional_duration_ms,\n",
    "                               flow.bidirectional_stddev_ps, flow.bidirectional_mean_ps,\n",
    "                               flow.bidirectional_mean_piat_ms]).reshape((1,-1))\n",
    "        flow.udps.model_prediction = self.my_model.predict(to_predict)\n",
    "print('Function ModelPredict accepted')"
   ]
  },
  {
   "cell_type": "code",
   "execution_count": null,
   "id": "645b860a",
   "metadata": {},
   "outputs": [],
   "source": [
    "# Continious prediction\n",
    "print(\"Continious Prediction :\")\n",
    "ml_streamer = NFStreamer(source=\"pcap.pcap\",\n",
    "                         statistical_analysis=True,\n",
    "                         splt_analysis=0,\n",
    "                         n_meters=0,\n",
    "                         performance_report=0,\n",
    "                         udps=ContiniousPrediction(my_model=rfc_trained))\n",
    "for flow in ml_streamer:\n",
    "    print(flow)"
   ]
  }
 ],
 "metadata": {
  "kernelspec": {
   "display_name": "Python 3",
   "language": "python",
   "name": "python3"
  },
  "language_info": {
   "codemirror_mode": {
    "name": "ipython",
    "version": 3
   },
   "file_extension": ".py",
   "mimetype": "text/x-python",
   "name": "python",
   "nbconvert_exporter": "python",
   "pygments_lexer": "ipython3",
   "version": "3.8.8"
  }
 },
 "nbformat": 4,
 "nbformat_minor": 5
}
